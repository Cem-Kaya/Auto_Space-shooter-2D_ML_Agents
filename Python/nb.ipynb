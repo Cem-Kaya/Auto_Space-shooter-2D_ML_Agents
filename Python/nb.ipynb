{
 "cells": [
  {
   "cell_type": "code",
   "execution_count": null,
   "metadata": {},
   "outputs": [],
   "source": [
    "#mlagents-learn config/conf.yaml  --resume --run-id=first_run "
   ]
  }
 ],
 "metadata": {
  "language_info": {
   "name": "python"
  }
 },
 "nbformat": 4,
 "nbformat_minor": 2
}
