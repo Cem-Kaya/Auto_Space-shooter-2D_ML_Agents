{
 "cells": [
  {
   "cell_type": "code",
   "execution_count": null,
   "metadata": {},
   "outputs": [],
   "source": [
    "# conda activate Ml-Agents\n",
    "# mlagents-learn config/conf.yaml  --resume --run-id=second_run"
   ]
  }
 ],
 "metadata": {
  "language_info": {
   "name": "python"
  }
 },
 "nbformat": 4,
 "nbformat_minor": 2
}
